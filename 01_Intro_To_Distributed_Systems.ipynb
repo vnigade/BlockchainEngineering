{
 "cells": [
  {
   "cell_type": "markdown",
   "metadata": {
    "slideshow": {
     "slide_type": "slide"
    }
   },
   "source": [
    "#  Introduction\n",
    "\n",
    "To understand how Blockchain works, we must first discuss how distributed systems work.\n",
    "\n",
    "The goal of this notebook is to explain the building blocks for any distributed system, and specifically a peer-to-peer system. P2P environment is a network where peers are connected, exchange information and run applications on top of it.\n",
    "\n",
    "The goals are as follows:\n",
    "- We will build a system block by block.\n",
    "- Distributed systems are hard as there are many random errors: race conditions, nasty bugs, deadlocks.\n",
    "- We will simplify the world to get to the juiciest parts without leaving out the essentials.  \n",
    "\n",
    "\n",
    "We will simulate the P2P environment locally to get an idea of how such systems would work and understand the design decision that developers make.\n",
    "\n",
    "To show the different tradeoffs and why developers and researchers choose specific designs, we need a way to simulate such an environment. Here we will simulate the network and message exchange via a  discrete event simulator: [SimPy](simpy.readthedocs.io/en/latest/).\n",
    "\n",
    "For the simplicity of use, you can use wrapper for SimPY implement a P2P network simulation: `p2psimpy`. \n",
    "\n",
    "\n",
    "# Simulation of P2P environments\n",
    "\n",
    "We start the notebook by introducing the backbone for such a simulation: `BaseSimulation`.\n",
    "This class represents the network of peers with their physical representations in the world, such as physical `location`, [`bandwidth`](https://en.wikipedia.org/wiki/Bandwidth_(computing)). \n",
    "\n",
    "These properties both define and restrict the capabilities of how fast you can transfer messages and how message travel through the network (which peers see the message, which channels are used).\n",
    "\n",
    "\n",
    "`BaseSimulation` consists of 3 main parameters: \n",
    " - *Locations*\n",
    " - *Network Topology* \n",
    " - *Services and Message Processors* \n",
    "\n",
    "We will explain them one by one. \n",
    "\n"
   ]
  },
  {
   "cell_type": "markdown",
   "metadata": {},
   "source": [
    "\n",
    "### Simulating latencies between locations\n",
    "\n",
    "The simulator simulates connection delays (`latency`) between the nodes in the physical space (`location`).\n",
    "This is a very rough representation of reality but is sufficient for us. You can read more about jitter and latency [here](https://www.tpx.com/blog/latency-jitter-and-packet-loss/) or [here](https://www.youtube.com/watch?v=WdbJdUh6W08).   \n",
    "\n",
    "\n",
    "\n",
    "Locations are defined as a `Config` class. Variables can be constant, or probabilistic (with a probability distribution using scipy).\n",
    "This class can be used as generators of parameters, saved and loaded as a [YAML](https://en.wikipedia.org/wiki/YAML) file."
   ]
  },
  {
   "cell_type": "markdown",
   "metadata": {},
   "source": [
    "  "
   ]
  },
  {
   "cell_type": "markdown",
   "metadata": {},
   "source": [
    "Location configuration should contain at least two fields: `locations` and `latencies`. \n",
    "- `locations` is an array or a tuple with names of locations.\n",
    "- `latencies` is a dictionary (matrix) with latencies of pairwise connections.\n",
    "\n",
    "Depending on the experiments, latencies can be constant, but a more realistic model is a probabilistic distribution.\n",
    "Such a distribution is represented with the `Dist` class. \n",
    "\n",
    "`Dist` class is a wrap-around [scipy.stats](https://docs.scipy.org/doc/scipy/reference/stats.html), which has a rich collection of distributions. Use the [link](https://docs.scipy.org/doc/scipy/reference/stats.html) as reference documentation when choosing a distribution function.   \n",
    "\n",
    "Finally,  `Config.get()` samples all the parameters from distributions and returns them as a dictionary.  \n",
    "\n",
    "Let's try it out:"
   ]
  },
  {
   "cell_type": "code",
   "execution_count": 31,
   "metadata": {
    "ExecuteTime": {
     "end_time": "2020-03-27T09:17:35.256784Z",
     "start_time": "2020-03-27T09:17:34.199645Z"
    },
    "recordTiming": true
   },
   "outputs": [],
   "source": [
    "from p2psimpy.config import *\n",
    "\n",
    "\n",
    "class ConstLocations(Config):\n",
    "    '''A configuration with 2 locations: LocA and LocB with constant latencies.'''\n",
    "    locations = ['LocA', 'LocB']\n",
    "    latencies = {\n",
    "        'LocA': {'LocB': 10, 'LocA': 2},\n",
    "        'LocB': {'LocB': 1}\n",
    "    }    \n",
    "\n",
    "class DistLocations(Config):\n",
    "    '''A configuration with 2 locations: LocA and LocB with variable latencies defined with a statistical function.'''\n",
    "    locations = ['LocA', 'LocB']\n",
    "    latencies = {\n",
    "        'LocB': {'LocB': Dist('gamma', (1, 1, 1))},\n",
    "        'LocA': {'LocB': Dist('norm', (12, 2)), 'LocA': Dist('norm', (2, 0.5))},\n",
    "    }    \n",
    "    "
   ]
  },
  {
   "cell_type": "code",
   "execution_count": 32,
   "metadata": {
    "ExecuteTime": {
     "end_time": "2020-03-27T09:17:35.274429Z",
     "start_time": "2020-03-27T09:17:35.259195Z"
    }
   },
   "outputs": [
    {
     "data": {
      "text/plain": [
       "{'latencies': {'LocA': {'LocB': 10, 'LocA': 2}, 'LocB': {'LocB': 1}},\n",
       " 'locations': ['LocA', 'LocB']}"
      ]
     },
     "execution_count": 32,
     "metadata": {},
     "output_type": "execute_result"
    }
   ],
   "source": [
    "ConstLocations.get()"
   ]
  },
  {
   "cell_type": "code",
   "execution_count": 33,
   "metadata": {
    "ExecuteTime": {
     "end_time": "2020-03-27T09:17:35.287131Z",
     "start_time": "2020-03-27T09:17:35.278297Z"
    }
   },
   "outputs": [
    {
     "data": {
      "text/plain": [
       "{'latencies': {'LocB': {'LocB': 1.6594298491171429},\n",
       "  'LocA': {'LocB': 13.576232636728436, 'LocA': 2.7945304933790833}},\n",
       " 'locations': ['LocA', 'LocB']}"
      ]
     },
     "execution_count": 33,
     "metadata": {},
     "output_type": "execute_result"
    }
   ],
   "source": [
    "DistLocations.get()"
   ]
  },
  {
   "cell_type": "markdown",
   "metadata": {},
   "source": [
    "Every time you call `Config.get()` it will return new sample"
   ]
  },
  {
   "cell_type": "code",
   "execution_count": 34,
   "metadata": {
    "ExecuteTime": {
     "end_time": "2020-03-27T09:17:35.304760Z",
     "start_time": "2020-03-27T09:17:35.294903Z"
    }
   },
   "outputs": [
    {
     "data": {
      "text/plain": [
       "{'latencies': {'LocB': {'LocB': 4.100370058496775},\n",
       "  'LocA': {'LocB': 9.29375720167948, 'LocA': 1.9142597835301622}},\n",
       " 'locations': ['LocA', 'LocB']}"
      ]
     },
     "execution_count": 34,
     "metadata": {},
     "output_type": "execute_result"
    }
   ],
   "source": [
    "DistLocations.get()"
   ]
  },
  {
   "cell_type": "markdown",
   "metadata": {},
   "source": [
    " "
   ]
  },
  {
   "cell_type": "markdown",
   "metadata": {},
   "source": [
    "To visualize it we can represent latencies sample as pandas dataframe. It provides a readable table:"
   ]
  },
  {
   "cell_type": "code",
   "execution_count": 35,
   "metadata": {
    "ExecuteTime": {
     "end_time": "2020-03-27T09:17:35.896505Z",
     "start_time": "2020-03-27T09:17:35.307036Z"
    }
   },
   "outputs": [
    {
     "data": {
      "text/html": [
       "<div>\n",
       "<style scoped>\n",
       "    .dataframe tbody tr th:only-of-type {\n",
       "        vertical-align: middle;\n",
       "    }\n",
       "\n",
       "    .dataframe tbody tr th {\n",
       "        vertical-align: top;\n",
       "    }\n",
       "\n",
       "    .dataframe thead th {\n",
       "        text-align: right;\n",
       "    }\n",
       "</style>\n",
       "<table border=\"1\" class=\"dataframe\">\n",
       "  <thead>\n",
       "    <tr style=\"text-align: right;\">\n",
       "      <th></th>\n",
       "      <th>LocB</th>\n",
       "      <th>LocA</th>\n",
       "    </tr>\n",
       "  </thead>\n",
       "  <tbody>\n",
       "    <tr>\n",
       "      <th>LocB</th>\n",
       "      <td>1.241577</td>\n",
       "      <td>9.589678</td>\n",
       "    </tr>\n",
       "    <tr>\n",
       "      <th>LocA</th>\n",
       "      <td>NaN</td>\n",
       "      <td>2.208538</td>\n",
       "    </tr>\n",
       "  </tbody>\n",
       "</table>\n",
       "</div>"
      ],
      "text/plain": [
       "          LocB      LocA\n",
       "LocB  1.241577  9.589678\n",
       "LocA       NaN  2.208538"
      ]
     },
     "execution_count": 35,
     "metadata": {},
     "output_type": "execute_result"
    }
   ],
   "source": [
    "import pandas as pd \n",
    "\n",
    "lat_sample = pd.DataFrame(DistLocations.get()['latencies'])\n",
    "lat_sample"
   ]
  },
  {
   "cell_type": "markdown",
   "metadata": {
    "ExecuteTime": {
     "end_time": "2020-03-16T16:34:34.176798Z",
     "start_time": "2020-03-16T16:34:34.165723Z"
    }
   },
   "source": [
    "*Notice that table has **NaN** values. They will not be automatically filled with symmetric value if not specified.*\n",
    "\n",
    "We can transform the table to fill them up symmetrically. "
   ]
  },
  {
   "cell_type": "code",
   "execution_count": 36,
   "metadata": {
    "ExecuteTime": {
     "end_time": "2020-03-27T09:17:35.940332Z",
     "start_time": "2020-03-27T09:17:35.904410Z"
    }
   },
   "outputs": [
    {
     "data": {
      "text/html": [
       "<div>\n",
       "<style scoped>\n",
       "    .dataframe tbody tr th:only-of-type {\n",
       "        vertical-align: middle;\n",
       "    }\n",
       "\n",
       "    .dataframe tbody tr th {\n",
       "        vertical-align: top;\n",
       "    }\n",
       "\n",
       "    .dataframe thead th {\n",
       "        text-align: right;\n",
       "    }\n",
       "</style>\n",
       "<table border=\"1\" class=\"dataframe\">\n",
       "  <thead>\n",
       "    <tr style=\"text-align: right;\">\n",
       "      <th></th>\n",
       "      <th>LocB</th>\n",
       "      <th>LocA</th>\n",
       "    </tr>\n",
       "  </thead>\n",
       "  <tbody>\n",
       "    <tr>\n",
       "      <th>LocB</th>\n",
       "      <td>1.241577</td>\n",
       "      <td>9.589678</td>\n",
       "    </tr>\n",
       "    <tr>\n",
       "      <th>LocA</th>\n",
       "      <td>9.589678</td>\n",
       "      <td>2.208538</td>\n",
       "    </tr>\n",
       "  </tbody>\n",
       "</table>\n",
       "</div>"
      ],
      "text/plain": [
       "          LocB      LocA\n",
       "LocB  1.241577  9.589678\n",
       "LocA  9.589678  2.208538"
      ]
     },
     "execution_count": 36,
     "metadata": {},
     "output_type": "execute_result"
    }
   ],
   "source": [
    "lat_sample[pd.isnull(lat_sample)] = lat_sample.T[pd.isnull(lat_sample)]\n",
    "lat_sample"
   ]
  },
  {
   "cell_type": "markdown",
   "metadata": {},
   "source": [
    "\n",
    "### Visualizing the data\n",
    "\n",
    "\n",
    " 1. Prepare data: \n",
    "  - Trasfer to pandas dataframe\n",
    "  - Fill null values with the symmetic counter-part\n",
    "  - Transform into list of tuples: 'from', 'to', 'value' \n",
    "  \n",
    " 2. Get 100 samples from the configuration with latencies\n",
    " \n",
    " 3. Visualize in a grid of histograms\n",
    "\n"
   ]
  },
  {
   "cell_type": "code",
   "execution_count": 38,
   "metadata": {
    "ExecuteTime": {
     "end_time": "2020-03-27T09:17:41.570964Z",
     "start_time": "2020-03-27T09:17:35.952523Z"
    }
   },
   "outputs": [
    {
     "data": {
      "image/png": "[encoded data removed]",
      "text/plain": [
       "<Figure size 576x576 with 4 Axes>"
      ]
     },
     "metadata": {},
     "output_type": "display_data"
    }
   ],
   "source": [
    "\n",
    "import matplotlib.pyplot as plt\n",
    "import seaborn as sns\n",
    "sns.set(style='darkgrid')\n",
    "\n",
    "# 1. Data prepare\n",
    "def prepare(x):\n",
    "    x = pd.DataFrame(x)\n",
    "    x[pd.isnull(x)] = x.T[pd.isnull(x)]\n",
    "    return x.stack().reset_index()\\\n",
    "                    .rename(columns={'level_0':'from', 'level_1':'to', 0: 'value'})\n",
    "                    \n",
    "# 2. Get 100 samples\n",
    "df = pd.concat(prepare(DistLocations.get()['latencies']) for _ in range(100))\n",
    "\n",
    "# 3. Visualize in a grid of histograms\n",
    "g = sns.FacetGrid(df, col='to', row='from', height=4, aspect=1)\n",
    "g = g.map(sns.distplot, 'value')\n"
   ]
  },
  {
   "cell_type": "raw",
   "metadata": {},
   "source": []
  },
  {
   "cell_type": "markdown",
   "metadata": {},
   "source": [
    "The visulations shows the latency matrix for our two locations. "
   ]
  },
  {
   "cell_type": "markdown",
   "metadata": {},
   "source": [
    "----\n",
    "## Peers and Topologies \n",
    "\n",
    "Usually when designing your own system, the architect should think about the network topology: *How are peers connected to each other?*. \n",
    "\n",
    "\n",
    "Simulation can work in two modes: \n",
    "\n",
    "1. **NetworkX**. You know what topology you want to simulate, pass a network topology to the simulation.\n",
    "\n",
    "2. **Emergent**. Peers connect to each other without a pre-defined topology. A certain topology emerges through local rules, for example, peers connect with each other through the bootstrap peers and exchange data with each other. Typically, unstructured topologies of a peer-to-peer network fall in this category. You can read more [here](https://en.wikipedia.org/wiki/Bootstrapping_node), or  read how [Bitcoin network](https://en.bitcoin.it/wiki/Network) is formed.  \n",
    "\n",
    "\n",
    "### Networkx topology\n",
    "\n",
    "Let's first see how we can form a network topology.\n"
   ]
  },
  {
   "cell_type": "code",
   "execution_count": 39,
   "metadata": {
    "ExecuteTime": {
     "end_time": "2020-03-27T09:17:43.066290Z",
     "start_time": "2020-03-27T09:17:41.577831Z"
    },
    "recordTiming": true
   },
   "outputs": [
    {
     "data": {
      "image/png": "[encoded data removed]",
      "text/plain": [
       "<Figure size 432x288 with 1 Axes>"
      ]
     },
     "metadata": {},
     "output_type": "display_data"
    }
   ],
   "source": [
    "import networkx as nx\n",
    "\n",
    "peer_num = 10\n",
    "\n",
    "# Generate a random network network topology \n",
    "G = nx.erdos_renyi_graph(10, 0.5)\n",
    "\n",
    "# Assign a peer type to the peers with a type. Type if later used to tell which services to run.\n",
    "nx.set_node_attributes(G, {k: 'basic' for k in G.nodes()}, 'type')\n",
    "\n",
    "sns.set(style='dark')\n",
    "nx.draw_networkx(G)\n"
   ]
  },
  {
   "cell_type": "markdown",
   "metadata": {},
   "source": [
    "NetworkX is a library with rich semantics to work with graphs. You can read more [here](https://networkx.github.io/documentation/stable/reference/generators.html).  \n",
    "\n",
    "You can choose any graph, generate them and put `type` as node attributes. `type` is a name for the peer type. We will explain later on how it will be used in a simulation.  \n",
    "\n",
    "\n",
    "\n",
    "### Emergent topology\n",
    "\n",
    "What if topology is not known?\n",
    "\n",
    "In this case we can model the peer discovery mechanism through *bootstrapping* peers. The general bootstrap process is the following: \n",
    "1. Bootstrap nodes are first created and introduced to the network. The goal of bootstrap nodes is to maintain list of peers and connect them with each other upon request. Bootstrap nodes are usually known in advance, for example, hardcoded in the supplied code. \n",
    "2. The bootstrap procedure is as follows: a) new peer joins the network, b) peer sends a `Hello` message to one of bootstrap nodes, c) a bootstrap node responds to the peer with a random sample of known online peers. \n",
    "3. The peer connect with other peers from the given sample list.\n",
    "\n",
    "\n",
    "To run default bootstrap you should pass as a parameter `topology`, a dictionary with type `peer_id` -> {`type`: type_name}\n",
    "This is all abstracted in simulation, but you can specify your own bootstrap logic later. \n",
    "\n",
    "\n",
    "<!-- ### Explain more\n",
    "\n",
    "Discovery  -->"
   ]
  },
  {
   "cell_type": "markdown",
   "metadata": {},
   "source": [
    "-------\n",
    "## Peer types and services\n",
    "\n",
    "Finally, our simulation needs messages and service to process these messages. In `p2psimpy` we model it through Manager Classes and `PeerType`.\n",
    "\n",
    "Below we show an example of a simple map with one type of the peer: `basic`: \n",
    "\n",
    "- Peer is described with a `PeerType(PeerConfig, services)`. \n",
    "    - `PeerConfig` describes a physical capacities of the node: bandwidth for the messages that go through (upload and download) and location (one the specified before)\n",
    "    - `services` is a list of service that peer should run. There some standard services that you can use in your simulation. But you will also implement your own later!\n",
    "- Minimally peer should have at least a connection service to connect to the network and respond to the introduction messages. These are the standard connection services available for you: \n",
    "  - `BaseConnectionManager`: a simple connection service that can connect, ping other peers and disconnect unresponsive peers. This is the recommended service for a **Networkx** topology approach.  \n",
    "  - `P2PConnectionManager`: an extended BaseConnectionManger that additionally keeps the number of connections between specified `min_peers` and `max_peers`. If the number of local connections is lower than `min_peers`, service will actievly pool and ask other peers for new connection. If the number of local connections is higher than `max_peers`, service will refuse all new connection and disconnect the slowest peers. This is a recommended service for an **Emergent** topology approach. \n",
    "\n",
    "Let's see how it looks in code:\n"
   ]
  },
  {
   "cell_type": "code",
   "execution_count": 40,
   "metadata": {
    "ExecuteTime": {
     "end_time": "2020-03-27T09:17:43.208204Z",
     "start_time": "2020-03-27T09:17:43.085495Z"
    }
   },
   "outputs": [],
   "source": [
    "from p2psimpy.config import *\n",
    "from p2psimpy.consts import *\n",
    "    \n",
    "class PeerConfig(Config):\n",
    "    # Location of the peer - random location from the locations specified earlier \n",
    "    location = Dist('sample', DistLocations.locations)\n",
    "    # Bandwidth is normally distributed with average of 50 and var 10 Mbit\n",
    "    bandwidth_ul = Dist( 'norm', (50*MBit, 10*MBit))\n",
    "    bandwidth_dl = Dist( 'norm', (50*MBit, 10*MBit))\n",
    "\n",
    "# Let's add ConnectionManager - that will periodically ping neighbours and check if they are online.\n",
    "# We use BaseConnectionManager - that will periodically ping peer and disconnect unresponsive peers.\n",
    "from p2psimpy.services.connection_manager import BaseConnectionManager\n",
    "\n",
    "services = (BaseConnectionManager,)\n",
    "# We have on peer role: basic\n",
    "peer_types = {'basic': PeerType(PeerConfig, services)}"
   ]
  },
  {
   "cell_type": "markdown",
   "metadata": {},
   "source": [
    "How to use these configurations? Configs are used to get value. \n",
    "They work as generators and attribute descriptors.  "
   ]
  },
  {
   "cell_type": "markdown",
   "metadata": {},
   "source": [
    "----"
   ]
  },
  {
   "cell_type": "markdown",
   "metadata": {},
   "source": [
    "# Putting it all together\n",
    "\n",
    "\n",
    "Let's combine all you learned so far to run a simple simulation:\n",
    "\n",
    "1. Define locations and simulation world parameters.\n",
    "2. Define topology and number of peers with their types.  \n",
    "3. Define what each peer type is with a `PeerConfig` and what it does with services. \n",
    "\n",
    "\n",
    "After we defined all this we can create a simulation object and run it with `.run(time)`.\n",
    "\n",
    "Simulation has it's internal clock and scheduler for all events. The parameter `time` is a time until which the simulation is run. \n",
    "\n",
    "\n",
    "***The time is defined in milliseconds**!\n",
    "\n",
    "\n",
    "\n"
   ]
  },
  {
   "cell_type": "markdown",
   "metadata": {
    "ExecuteTime": {
     "end_time": "2020-03-11T09:50:33.374122Z",
     "start_time": "2020-03-11T09:50:33.347834Z"
    }
   },
   "source": [
    "## Random given topology \n",
    "\n",
    "Let us first try out with a random given topology generated as a networkx graph"
   ]
  },
  {
   "cell_type": "code",
   "execution_count": 41,
   "metadata": {
    "ExecuteTime": {
     "end_time": "2020-03-27T09:17:43.889018Z",
     "start_time": "2020-03-27T09:17:43.214432Z"
    }
   },
   "outputs": [
    {
     "data": {
      "image/png": "[encoded data removed]",
      "text/plain": [
       "<Figure size 432x288 with 1 Axes>"
      ]
     },
     "metadata": {},
     "output_type": "display_data"
    }
   ],
   "source": [
    "from p2psimpy.config import *\n",
    "from p2psimpy.consts import *\n",
    "import networkx as nx\n",
    "\n",
    "class Locations(Config):\n",
    "    locations = ['LocA', 'LocB']\n",
    "    latencies = {\n",
    "        'LocB': {'LocB': Dist('gamma', (1, 1, 1))},\n",
    "        'LocA': {'LocB': Dist('norm', (12, 2)), 'LocA': Dist('norm', (2, 0.5))},\n",
    "    } \n",
    "\n",
    "# Number of nodes\n",
    "N = 10\n",
    "    \n",
    "# Generate network topology \n",
    "G = nx.erdos_renyi_graph(N, 0.5)\n",
    "# Assign a peer type to the peers \n",
    "nx.set_node_attributes(G, {k: 'basic' for k in G.nodes()}, 'type')\n",
    "\n",
    "class PeerConfig(Config):\n",
    "    location = Dist('sample', Locations.locations)\n",
    "    bandwidth_ul = Dist( 'norm', (50*MBit, 10*MBit))\n",
    "    bandwidth_dl = Dist( 'norm', (50*MBit, 10*MBit))\n",
    "\n",
    "# Let's add ConnectionManager - that will periodically ping neighbours and check if they are online \n",
    "from p2psimpy.services.connection_manager import BaseConnectionManager\n",
    "# For each service you can define own configuration, or use default values.   \n",
    "# Lets use base connection manager - that will periodically ping peer and disconnect unresponsive peers.\n",
    "\n",
    "services = (BaseConnectionManager,)\n",
    "peer_types = {'basic': PeerType(PeerConfig, services)}\n",
    "\n",
    "# Display the topology \n",
    "nx.draw_networkx(G)"
   ]
  },
  {
   "cell_type": "code",
   "execution_count": 42,
   "metadata": {
    "ExecuteTime": {
     "end_time": "2020-03-27T09:17:44.329539Z",
     "start_time": "2020-03-27T09:17:43.895337Z"
    }
   },
   "outputs": [],
   "source": [
    "from p2psimpy.simulation import BaseSimulation\n",
    "\n",
    "# Create BaseSimulation with enabled logger and save in the logs directory. \n",
    "sim = BaseSimulation(Locations, G, peer_types, enable_logger=True, logger_dir='logs')\n",
    "\n",
    "# Let's run the simulation for 5 seconds\n",
    "sim.run(5_000)"
   ]
  },
  {
   "cell_type": "markdown",
   "metadata": {
    "ExecuteTime": {
     "end_time": "2020-03-17T12:40:15.632268Z",
     "start_time": "2020-03-17T12:40:15.613568Z"
    }
   },
   "source": [
    "----------------------------\n",
    "\n",
    "What's next? There is no output.\n",
    "\n",
    "We run the simulator with logger enabled to see the all the messages exchanged in the network. \n",
    "\n",
    "The output is written to the logs in `\\logs` directory. Let's see what is the output. \n",
    "Each peer writes its own log with events happening like received message, connecting to a peer etc. \n",
    "\n",
    "For example, here is the log of peer 1:"
   ]
  },
  {
   "cell_type": "code",
   "execution_count": 43,
   "metadata": {
    "ExecuteTime": {
     "end_time": "2020-03-27T09:17:44.413024Z",
     "start_time": "2020-03-27T09:17:44.345639Z"
    }
   },
   "outputs": [
    {
     "name": "stdout",
     "output_type": "stream",
     "text": [
      "Peer_1:basic INFO 0.5536164307350547: Connecting to Peer_8:basic\n",
      "Peer_1:basic INFO 0.6997772178636317: Connecting to Peer_2:basic\n",
      "Peer_1:basic INFO 0.7644293032751519: Connecting to Peer_7:basic\n",
      "Peer_1:basic INFO 0.776894274584057: Received message <Hello:> from Peer_2:basic\n",
      "Peer_1:basic INFO 0.7782063684295538: Received message <Hello:> from Peer_8:basic\n",
      "Peer_1:basic INFO 1.2887973382390732: Received message <Hello:> from Peer_8:basic\n",
      "Peer_1:basic INFO 1.7005556569745048: Received message <Hello:> from Peer_7:basic\n",
      "Peer_1:basic INFO 2.2714392329486177: Received message <Hello:> from Peer_7:basic\n",
      "Peer_1:basic INFO 3.505051801050294: Received message <Hello:> from Peer_2:basic\n",
      "Peer_1:basic INFO 5.323643399715021: Received message <Hello:> from Peer_3:basic\n",
      "Peer_1:basic INFO 5.323643399715021: Connecting to Peer_3:basic\n",
      "Peer_1:basic INFO 5.323643399715021: Sending message <Hello:> to Peer_3:basic\n",
      "Peer_1:basic INFO 1000: Sending message <Ping:> to Peer_8:basic\n",
      "Peer_1:basic INFO 1000: Sending message <Ping:> to Peer_2:basic\n",
      "Peer_1:basic INFO 1000: Sending message <Ping:> to Peer_7:basic\n",
      "Peer_1:basic INFO 1000: Sending message <Ping:> to Peer_3:basic\n",
      "Peer_1:basic INFO 1000.5302043450736: Received message <Ping:> from Peer_2:basic\n",
      "Peer_1:basic INFO 1000.5302043450736: Sending message <Pong:> to Peer_2:basic\n",
      "Peer_1:basic INFO 1000.5490539747368: Received message <Ping:> from Peer_8:basic\n",
      "Peer_1:basic INFO 1000.5490539747368: Sending message <Pong:> to Peer_8:basic\n",
      "Peer_1:basic INFO 1001.4661670828116: Received message <Ping:> from Peer_7:basic\n",
      "Peer_1:basic INFO 1001.4661670828116: Sending message <Pong:> to Peer_7:basic\n",
      "Peer_1:basic INFO 1001.8917219727122: Received message <Pong:> from Peer_7:basic\n",
      "Peer_1:basic INFO 1001.910299302865: Received message <Pong:> from Peer_2:basic\n",
      "Peer_1:basic INFO 1003.3228882879824: Received message <Pong:> from Peer_8:basic\n",
      "Peer_1:basic INFO 1006.0780479414993: Received message <Ping:> from Peer_3:basic\n",
      "Peer_1:basic INFO 1006.0780479414993: Sending message <Pong:> to Peer_3:basic\n",
      "Peer_1:basic INFO 1011.5452050948735: Received message <Pong:> from Peer_3:basic\n",
      "Peer_1:basic INFO 2000: Sending message <Ping:> to Peer_8:basic\n",
      "Peer_1:basic INFO 2000: Sending message <Ping:> to Peer_2:basic\n",
      "Peer_1:basic INFO 2000: Sending message <Ping:> to Peer_7:basic\n",
      "Peer_1:basic INFO 2000: Sending message <Ping:> to Peer_3:basic\n",
      "Peer_1:basic INFO 2000.5419590429603: Received message <Ping:> from Peer_8:basic\n",
      "Peer_1:basic INFO 2000.5419590429603: Sending message <Pong:> to Peer_8:basic\n",
      "Peer_1:basic INFO 2000.5728060133529: Received message <Ping:> from Peer_7:basic\n",
      "Peer_1:basic INFO 2000.5728060133529: Sending message <Pong:> to Peer_7:basic\n",
      "Peer_1:basic INFO 2001.6737411577722: Received message <Ping:> from Peer_2:basic\n",
      "Peer_1:basic INFO 2001.6737411577722: Sending message <Pong:> to Peer_2:basic\n",
      "Peer_1:basic INFO 2001.748980543365: Received message <Pong:> from Peer_8:basic\n",
      "Peer_1:basic INFO 2002.266389271477: Received message <Pong:> from Peer_2:basic\n",
      "Peer_1:basic INFO 2002.576343547896: Received message <Pong:> from Peer_7:basic\n",
      "Peer_1:basic INFO 2005.9474558877928: Received message <Ping:> from Peer_3:basic\n",
      "Peer_1:basic INFO 2005.9474558877928: Sending message <Pong:> to Peer_3:basic\n",
      "Peer_1:basic INFO 2010.644277443257: Received message <Pong:> from Peer_3:basic\n",
      "Peer_1:basic INFO 3000: Sending message <Ping:> to Peer_8:basic\n",
      "Peer_1:basic INFO 3000: Sending message <Ping:> to Peer_2:basic\n",
      "Peer_1:basic INFO 3000: Sending message <Ping:> to Peer_7:basic\n",
      "Peer_1:basic INFO 3000: Sending message <Ping:> to Peer_3:basic\n",
      "Peer_1:basic INFO 3000.665630222604: Received message <Ping:> from Peer_8:basic\n",
      "Peer_1:basic INFO 3000.665630222604: Sending message <Pong:> to Peer_8:basic\n",
      "Peer_1:basic INFO 3001.016765136848: Received message <Ping:> from Peer_7:basic\n",
      "Peer_1:basic INFO 3001.016765136848: Sending message <Pong:> to Peer_7:basic\n",
      "Peer_1:basic INFO 3001.226687704636: Received message <Ping:> from Peer_2:basic\n",
      "Peer_1:basic INFO 3001.226687704636: Sending message <Pong:> to Peer_2:basic\n",
      "Peer_1:basic INFO 3001.2530984082673: Received message <Pong:> from Peer_2:basic\n",
      "Peer_1:basic INFO 3002.6841554459093: Received message <Pong:> from Peer_8:basic\n",
      "Peer_1:basic INFO 3003.528039338545: Received message <Pong:> from Peer_7:basic\n",
      "Peer_1:basic INFO 3006.9893439855464: Received message <Ping:> from Peer_3:basic\n",
      "Peer_1:basic INFO 3006.9893439855464: Sending message <Pong:> to Peer_3:basic\n",
      "Peer_1:basic INFO 3011.354405571862: Received message <Pong:> from Peer_3:basic\n",
      "Peer_1:basic INFO 4000: Sending message <Ping:> to Peer_8:basic\n",
      "Peer_1:basic INFO 4000: Sending message <Ping:> to Peer_2:basic\n",
      "Peer_1:basic INFO 4000: Sending message <Ping:> to Peer_7:basic\n",
      "Peer_1:basic INFO 4000: Sending message <Ping:> to Peer_3:basic\n",
      "Peer_1:basic INFO 4000.7301773603417: Received message <Ping:> from Peer_8:basic\n",
      "Peer_1:basic INFO 4000.7301773603417: Sending message <Pong:> to Peer_8:basic\n",
      "Peer_1:basic INFO 4001.197121504086: Received message <Pong:> from Peer_2:basic\n",
      "Peer_1:basic INFO 4001.649638774525: Received message <Ping:> from Peer_7:basic\n",
      "Peer_1:basic INFO 4001.649638774525: Sending message <Pong:> to Peer_7:basic\n",
      "Peer_1:basic INFO 4002.007165550576: Received message <Ping:> from Peer_2:basic\n",
      "Peer_1:basic INFO 4002.007165550576: Sending message <Pong:> to Peer_2:basic\n",
      "Peer_1:basic INFO 4003.118519176069: Received message <Pong:> from Peer_7:basic\n",
      "Peer_1:basic INFO 4005.8977691653163: Received message <Ping:> from Peer_3:basic\n",
      "Peer_1:basic INFO 4005.8977691653163: Sending message <Pong:> to Peer_3:basic\n",
      "Peer_1:basic INFO 4006.2407316556782: Received message <Pong:> from Peer_8:basic\n",
      "Peer_1:basic INFO 4010.7549584035705: Received message <Pong:> from Peer_3:basic\n",
      "\n"
     ]
    }
   ],
   "source": [
    "with open('logs/Peer_1:basic.log') as s:\n",
    "    print(s.read())"
   ]
  },
  {
   "cell_type": "markdown",
   "metadata": {},
   "source": [
    "## Emergent topology\n",
    "\n",
    "Now let's try an emergent topology, we will use the same configuration, but use bootstrap peer for discovery and building a network. For the connection manager we will use `P2PConnectionManager`.  \n"
   ]
  },
  {
   "cell_type": "code",
   "execution_count": 44,
   "metadata": {
    "ExecuteTime": {
     "end_time": "2020-03-27T09:17:44.430653Z",
     "start_time": "2020-03-27T09:17:44.415134Z"
    }
   },
   "outputs": [],
   "source": [
    "from p2psimpy.services.connection_manager import P2PConnectionManager\n",
    "\n",
    "num_peers = 10\n",
    "\n",
    "topology_specs = {i:{'type': 'basic'} for i in range(1, num_peers+1)}\n",
    "\n",
    "class ConnectionConfig(Config):\n",
    "    min_peers = 4\n",
    "    max_peers = 8\n",
    "\n",
    "peer_types = {'basic': PeerType(PeerConfig, {P2PConnectionManager: ConnectionConfig})}\n"
   ]
  },
  {
   "cell_type": "code",
   "execution_count": 45,
   "metadata": {
    "ExecuteTime": {
     "end_time": "2020-03-27T09:17:44.729428Z",
     "start_time": "2020-03-27T09:17:44.442513Z"
    }
   },
   "outputs": [],
   "source": [
    "sim = BaseSimulation(Locations, topology_specs, peer_types, logger_dir='logs2')\n",
    "\n",
    "# Let's run the simulation for 5 seconds\n",
    "sim.run(5_000)"
   ]
  },
  {
   "cell_type": "markdown",
   "metadata": {},
   "source": [
    "#### The peers form themselves a random topology"
   ]
  },
  {
   "cell_type": "code",
   "execution_count": 46,
   "metadata": {
    "ExecuteTime": {
     "end_time": "2020-03-27T09:17:46.596898Z",
     "start_time": "2020-03-27T09:17:44.765123Z"
    }
   },
   "outputs": [
    {
     "data": {
      "image/png": "[encoded data removed]",
      "text/plain": [
       "<Figure size 432x288 with 1 Axes>"
      ]
     },
     "metadata": {},
     "output_type": "display_data"
    }
   ],
   "source": [
    "G1 = sim.get_graph()\n",
    "nx.draw_networkx(G1)"
   ]
  },
  {
   "cell_type": "code",
   "execution_count": 47,
   "metadata": {
    "ExecuteTime": {
     "end_time": "2020-03-27T09:17:46.609528Z",
     "start_time": "2020-03-27T09:17:46.600756Z"
    }
   },
   "outputs": [
    {
     "name": "stdout",
     "output_type": "stream",
     "text": [
      "Peer_1:basic WARNING 0: Not enough peers, fetching more (0, 4)\n",
      "Peer_1:basic INFO 5.860164393784847: Connecting to Peer_11:bootstrap\n",
      "Peer_1:basic INFO 10.861887075815579: Received message <Hello:> from Peer_11:bootstrap\n",
      "Peer_1:basic INFO 11.607312705838538: Received message <RequestPeers:> from Peer_11:bootstrap\n",
      "Peer_1:basic INFO 11.607312705838538: Sending message <PeerList> to Peer_11:bootstrap\n",
      "Peer_1:basic WARNING 500: Not enough peers, fetching more (1, 4)\n",
      "Peer_1:basic INFO 500: Sending message <RequestPeers:> to Peer_11:bootstrap\n",
      "Peer_1:basic INFO 513.2521076495143: Received message <PeerList> from Peer_11:bootstrap\n",
      "Peer_1:basic WARNING 1000: Not enough peers, fetching more (1, 4)\n",
      "Peer_1:basic INFO 1000: Sending message <RequestPeers:> to Peer_11:bootstrap\n",
      "Peer_1:basic INFO 1000.8007741322895: Connecting to Peer_5:basic\n",
      "Peer_1:basic INFO 1001.4982135574178: Received message <RequestPeers:> from Peer_5:basic\n",
      "Peer_1:basic INFO 1001.4982135574178: Sending message <PeerList> to Peer_5:basic\n",
      "Peer_1:basic INFO 1001.6282500805817: Received message <Hello:> from Peer_5:basic\n",
      "Peer_1:basic INFO 1012.0338148421534: Received message <PeerList> from Peer_11:bootstrap\n",
      "Peer_1:basic WARNING 1500: Not enough peers, fetching more (2, 4)\n",
      "Peer_1:basic INFO 1500: Sending message <RequestPeers:> to Peer_11:bootstrap\n",
      "Peer_1:basic INFO 1500: Sending message <RequestPeers:> to Peer_5:basic\n",
      "Peer_1:basic INFO 1502.392076275925: Received message <PeerList> from Peer_5:basic\n",
      "Peer_1:basic INFO 1506.5103198944944: Received message <Hello:> from Peer_7:basic\n",
      "Peer_1:basic INFO 1506.5103198944944: Connecting to Peer_7:basic\n",
      "Peer_1:basic INFO 1506.5103198944944: Sending message <Hello:> to Peer_7:basic\n",
      "Peer_1:basic INFO 1506.5103198944944: Sending message <RequestPeers:> to Peer_7:basic\n",
      "Peer_1:basic INFO 1512.3983028235775: Received message <PeerList> from Peer_11:bootstrap\n",
      "Peer_1:basic INFO 1520.088752090511: Received message <PeerList> from Peer_7:basic\n",
      "Peer_1:basic WARNING 2000: Not enough peers, fetching more (3, 4)\n",
      "Peer_1:basic INFO 2005.8910872258607: Received message <RequestPeers:> from Peer_11:bootstrap\n",
      "Peer_1:basic INFO 2005.8910872258607: Sending message <PeerList> to Peer_11:bootstrap\n",
      "Peer_1:basic INFO 2006.4935023930796: Connecting to Peer_2:basic\n",
      "Peer_1:basic INFO 2010.9099743571694: Received message <Hello:> from Peer_2:basic\n",
      "Peer_1:basic INFO 2013.3196895656688: Received message <RequestPeers:> from Peer_2:basic\n",
      "Peer_1:basic INFO 2013.3196895656688: Sending message <PeerList> to Peer_2:basic\n",
      "Peer_1:basic INFO 2500: Sending message <Ping:> to Peer_5:basic\n",
      "Peer_1:basic INFO 2500: Sending message <Ping:> to Peer_7:basic\n",
      "Peer_1:basic INFO 2501.2341323972773: Received message <Ping:> from Peer_5:basic\n",
      "Peer_1:basic INFO 2501.2341323972773: Sending message <Pong:> to Peer_5:basic\n",
      "Peer_1:basic INFO 2501.9152181275836: Received message <Pong:> from Peer_5:basic\n",
      "Peer_1:basic INFO 2505.185110740006: Received message <Ping:> from Peer_7:basic\n",
      "Peer_1:basic INFO 2505.185110740006: Sending message <Pong:> to Peer_7:basic\n",
      "Peer_1:basic INFO 2510.7355397911965: Received message <Pong:> from Peer_7:basic\n",
      "Peer_1:basic INFO 3000: Sending message <Ping:> to Peer_11:bootstrap\n",
      "Peer_1:basic INFO 3000: Sending message <Ping:> to Peer_2:basic\n",
      "Peer_1:basic INFO 3005.593941170487: Received message <Ping:> from Peer_11:bootstrap\n",
      "Peer_1:basic INFO 3005.593941170487: Sending message <Pong:> to Peer_11:bootstrap\n",
      "Peer_1:basic INFO 3007.213125686652: Received message <Ping:> from Peer_2:basic\n",
      "Peer_1:basic INFO 3007.213125686652: Sending message <Pong:> to Peer_2:basic\n",
      "Peer_1:basic INFO 3009.681642585269: Received message <Pong:> from Peer_11:bootstrap\n",
      "Peer_1:basic INFO 3013.194006761233: Received message <Pong:> from Peer_2:basic\n",
      "Peer_1:basic INFO 3500: Sending message <Ping:> to Peer_5:basic\n",
      "Peer_1:basic INFO 3500: Sending message <Ping:> to Peer_7:basic\n",
      "Peer_1:basic INFO 3500.7304552306023: Received message <Ping:> from Peer_5:basic\n",
      "Peer_1:basic INFO 3500.7304552306023: Sending message <Pong:> to Peer_5:basic\n",
      "Peer_1:basic INFO 3502.575450537923: Received message <Pong:> from Peer_5:basic\n",
      "Peer_1:basic INFO 3505.114736100101: Received message <Ping:> from Peer_7:basic\n",
      "Peer_1:basic INFO 3505.114736100101: Sending message <Pong:> to Peer_7:basic\n",
      "Peer_1:basic INFO 3507.8799526359335: Received message <RequestPeers:> from Peer_11:bootstrap\n",
      "Peer_1:basic INFO 3507.8799526359335: Sending message <PeerList> to Peer_11:bootstrap\n",
      "Peer_1:basic INFO 3513.5858396659414: Received message <Pong:> from Peer_7:basic\n",
      "Peer_1:basic INFO 4000: Sending message <Ping:> to Peer_2:basic\n",
      "Peer_1:basic INFO 4007.212757123765: Received message <Ping:> from Peer_2:basic\n",
      "Peer_1:basic INFO 4007.212757123765: Sending message <Pong:> to Peer_2:basic\n",
      "Peer_1:basic INFO 4007.3163667069125: Received message <RequestPeers:> from Peer_11:bootstrap\n",
      "Peer_1:basic INFO 4007.3163667069125: Sending message <PeerList> to Peer_11:bootstrap\n",
      "Peer_1:basic INFO 4010.5875438006938: Received message <Pong:> from Peer_2:basic\n",
      "Peer_1:basic INFO 4500: Sending message <Ping:> to Peer_5:basic\n",
      "Peer_1:basic INFO 4500: Sending message <Ping:> to Peer_7:basic\n",
      "Peer_1:basic INFO 4500.639512994755: Received message <Ping:> from Peer_5:basic\n",
      "Peer_1:basic INFO 4500.639512994755: Sending message <Pong:> to Peer_5:basic\n",
      "Peer_1:basic INFO 4502.729489591437: Received message <Pong:> from Peer_5:basic\n",
      "Peer_1:basic INFO 4506.421826860932: Received message <Ping:> from Peer_7:basic\n",
      "Peer_1:basic INFO 4506.421826860932: Sending message <Pong:> to Peer_7:basic\n",
      "Peer_1:basic INFO 4507.965735895734: Received message <RequestPeers:> from Peer_11:bootstrap\n",
      "Peer_1:basic INFO 4507.965735895734: Sending message <PeerList> to Peer_11:bootstrap\n",
      "Peer_1:basic INFO 4511.5078489976795: Received message <Pong:> from Peer_7:basic\n",
      "\n"
     ]
    }
   ],
   "source": [
    "with open('logs2/Peer_1:basic.log') as s:\n",
    "    print(s.read())"
   ]
  },
  {
   "cell_type": "markdown",
   "metadata": {},
   "source": [
    "------------------\n",
    "\n",
    "Now you get how to work a simulation, in the next notebook we will take a look into services and implement our own.  \n"
   ]
  },
  {
   "cell_type": "markdown",
   "metadata": {},
   "source": [
    "## Your experiments here \n",
    "\n",
    "1. Change the latency between the locations and look at the logs.  \n",
    "2. Change the rules for the discovery"
   ]
  },
  {
   "cell_type": "code",
   "execution_count": 102,
   "metadata": {},
   "outputs": [
    {
     "data": {
      "text/html": [
       "<div>\n",
       "<style scoped>\n",
       "    .dataframe tbody tr th:only-of-type {\n",
       "        vertical-align: middle;\n",
       "    }\n",
       "\n",
       "    .dataframe tbody tr th {\n",
       "        vertical-align: top;\n",
       "    }\n",
       "\n",
       "    .dataframe thead th {\n",
       "        text-align: right;\n",
       "    }\n",
       "</style>\n",
       "<table border=\"1\" class=\"dataframe\">\n",
       "  <thead>\n",
       "    <tr style=\"text-align: right;\">\n",
       "      <th></th>\n",
       "      <th>LocB</th>\n",
       "      <th>LocA</th>\n",
       "    </tr>\n",
       "  </thead>\n",
       "  <tbody>\n",
       "    <tr>\n",
       "      <th>LocB</th>\n",
       "      <td>1</td>\n",
       "      <td>9.782978</td>\n",
       "    </tr>\n",
       "    <tr>\n",
       "      <th>LocA</th>\n",
       "      <td>20</td>\n",
       "      <td>1.075978</td>\n",
       "    </tr>\n",
       "  </tbody>\n",
       "</table>\n",
       "</div>"
      ],
      "text/plain": [
       "      LocB      LocA\n",
       "LocB     1  9.782978\n",
       "LocA    20  1.075978"
      ]
     },
     "execution_count": 102,
     "metadata": {},
     "output_type": "execute_result"
    }
   ],
   "source": [
    "# Here, we will try to simulate latency values with mix of constant and variable values.\n",
    "class MixedLocations(Config):\n",
    "    '''A configuration with 2 locations: LocA and LocB with a mix of constant and variable latencies.'''\n",
    "    locations = ['LocA', 'LocB']\n",
    "    latencies = {\n",
    "        'LocB': {'LocB': 1, 'LocA': 20},\n",
    "        'LocA': {'LocB': Dist('norm', (10, 2)), 'LocA': Dist('gamma', (2, 0, 1))},\n",
    "    } \n",
    "    \n",
    "# Check the latency values\n",
    "lat_sample = pd.DataFrame(MixedLocations.get()['latencies'])\n",
    "lat_sample"
   ]
  },
  {
   "cell_type": "code",
   "execution_count": 107,
   "metadata": {},
   "outputs": [
    {
     "name": "stdout",
     "output_type": "stream",
     "text": [
      "Location of  0 LocB\n",
      "Location of  1 LocB\n",
      "Location of  2 LocA\n",
      "Location of  3 LocB\n",
      "Location of  4 LocA\n",
      "Location of  5 LocA\n",
      "Location of  6 LocB\n",
      "Location of  7 LocA\n",
      "Location of  8 LocB\n",
      "Location of  9 LocB\n"
     ]
    }
   ],
   "source": [
    "# Create BaseSimulation with enabled logger and save in the logs directory. \n",
    "sim = BaseSimulation(MixedLocations, G, peer_types, enable_logger=True, logger_dir='logs3')\n",
    "\n",
    "# Let's run the simulation for 5 seconds\n",
    "sim.run(5_000)\n",
    "\n",
    "for peer in sim.peers:\n",
    "    print(\"Location of \", peer, sim.peers[peer].location)"
   ]
  },
  {
   "cell_type": "code",
   "execution_count": 108,
   "metadata": {},
   "outputs": [
    {
     "name": "stdout",
     "output_type": "stream",
     "text": [
      "Peer_7:basic WARNING 0: Not enough peers, fetching more (0, 1)\n",
      "Peer_7:basic INFO 0.5831005221782727: Received message <Hello:> from Peer_2:basic\n",
      "Peer_7:basic INFO 0.5831005221782727: Connecting to Peer_2:basic\n",
      "Peer_7:basic INFO 0.5831005221782727: Sending message <Hello:> to Peer_2:basic\n",
      "Peer_7:basic INFO 0.5831005221782727: Sending message <RequestPeers:> to Peer_2:basic\n",
      "Peer_7:basic INFO 1.0524514495561075: Received message <Hello:> from Peer_4:basic\n",
      "Peer_7:basic INFO 1.0524514495561075: Connecting to Peer_4:basic\n",
      "Peer_7:basic INFO 1.0524514495561075: Sending message <Hello:> to Peer_4:basic\n",
      "Peer_7:basic INFO 1.0524514495561075: Sending message <RequestPeers:> to Peer_4:basic\n",
      "Peer_7:basic INFO 1.8818076987306058: Received message <PeerList> from Peer_2:basic\n",
      "Peer_7:basic INFO 3.311191987202666: Received message <PeerList> from Peer_4:basic\n",
      "Peer_7:basic INFO 4.119094502312278: Connecting to Peer_2:basic\n",
      "Peer_7:basic INFO 4.241113195962195: Connecting to Peer_8:basic\n",
      "Peer_7:basic INFO 5.774421177083113: Connecting to Peer_9:basic\n",
      "Peer_7:basic INFO 6.329518723089455: Connecting to Peer_1:basic\n",
      "Peer_7:basic INFO 10.000006542335107: Received message <Hello:> from Peer_9:basic\n",
      "Peer_7:basic INFO 10.000009133227683: Received message <Hello:> from Peer_8:basic\n",
      "Peer_7:basic INFO 10.00001172412026: Received message <Hello:> from Peer_2:basic\n",
      "Peer_7:basic INFO 10.000014315012836: Received message <Hello:> from Peer_1:basic\n",
      "Peer_7:basic INFO 14.119101197317868: Received message <Hello:> from Peer_2:basic\n",
      "Peer_7:basic INFO 14.119103788210444: Received message <RequestPeers:> from Peer_2:basic\n",
      "Peer_7:basic INFO 14.119103788210444: Sending message <PeerList> to Peer_2:basic\n",
      "Peer_7:basic INFO 14.241119744070668: Received message <Hello:> from Peer_8:basic\n",
      "Peer_7:basic INFO 14.241122334963244: Received message <RequestPeers:> from Peer_8:basic\n",
      "Peer_7:basic INFO 14.241122334963244: Sending message <PeerList> to Peer_8:basic\n",
      "Peer_7:basic INFO 15.77442771941822: Received message <Hello:> from Peer_9:basic\n",
      "Peer_7:basic INFO 15.774430310310796: Received message <RequestPeers:> from Peer_9:basic\n",
      "Peer_7:basic INFO 15.774430310310796: Sending message <PeerList> to Peer_9:basic\n",
      "Peer_7:basic INFO 16.32952572261822: Received message <Hello:> from Peer_1:basic\n",
      "Peer_7:basic INFO 16.329528313510796: Received message <RequestPeers:> from Peer_1:basic\n",
      "Peer_7:basic INFO 16.329528313510796: Sending message <PeerList> to Peer_1:basic\n",
      "Peer_7:basic WARNING 500: Too many peers connected (6, 3)\n",
      "Peer_7:basic WARNING 1000: Too many peers connected (6, 3)\n",
      "Peer_7:basic INFO 1000: Sending message <Ping:> to Peer_2:basic\n",
      "Peer_7:basic INFO 1000: Sending message <Ping:> to Peer_4:basic\n",
      "Peer_7:basic INFO 1000: Sending message <Ping:> to Peer_2:basic\n",
      "Peer_7:basic INFO 1000: Sending message <Ping:> to Peer_8:basic\n",
      "Peer_7:basic INFO 1000: Sending message <Ping:> to Peer_9:basic\n",
      "Peer_7:basic INFO 1000: Sending message <Ping:> to Peer_1:basic\n",
      "Peer_7:basic INFO 1001.0288812890624: Received message <Pong:> from Peer_4:basic\n",
      "Peer_7:basic INFO 1001.0936793562286: Received message <Ping:> from Peer_4:basic\n",
      "Peer_7:basic INFO 1001.0936793562286: Sending message <Pong:> to Peer_4:basic\n",
      "Peer_7:basic INFO 1001.7808141305431: Received message <Pong:> from Peer_2:basic\n",
      "Peer_7:basic INFO 1002.7494485109005: Received message <Ping:> from Peer_2:basic\n",
      "Peer_7:basic INFO 1002.7494485109005: Sending message <Pong:> to Peer_2:basic\n",
      "Peer_7:basic INFO 1010.0000065423351: Received message <Ping:> from Peer_9:basic\n",
      "Peer_7:basic INFO 1010.0000065423351: Sending message <Pong:> to Peer_9:basic\n",
      "Peer_7:basic INFO 1010.0000091332276: Received message <Ping:> from Peer_8:basic\n",
      "Peer_7:basic INFO 1010.0000091332276: Sending message <Pong:> to Peer_8:basic\n",
      "Peer_7:basic INFO 1010.0000117241202: Received message <Ping:> from Peer_2:basic\n",
      "Peer_7:basic INFO 1010.0000117241202: Sending message <Pong:> to Peer_2:basic\n",
      "Peer_7:basic INFO 1010.0000143150128: Received message <Ping:> from Peer_1:basic\n",
      "Peer_7:basic INFO 1010.0000143150128: Sending message <Pong:> to Peer_1:basic\n",
      "Peer_7:basic INFO 1013.9691772928222: Received message <Pong:> from Peer_8:basic\n",
      "Peer_7:basic INFO 1014.4915479929871: Received message <Pong:> from Peer_1:basic\n",
      "Peer_7:basic INFO 1015.4285210288538: Received message <Pong:> from Peer_2:basic\n",
      "Peer_7:basic INFO 1016.7561746232683: Received message <Pong:> from Peer_9:basic\n",
      "Peer_7:basic WARNING 1500: Too many peers connected (6, 3)\n",
      "Peer_7:basic WARNING 2000: Too many peers connected (6, 3)\n",
      "Peer_7:basic INFO 2000: Sending message <Ping:> to Peer_2:basic\n",
      "Peer_7:basic INFO 2000: Sending message <Ping:> to Peer_4:basic\n",
      "Peer_7:basic INFO 2000: Sending message <Ping:> to Peer_2:basic\n",
      "Peer_7:basic INFO 2000: Sending message <Ping:> to Peer_8:basic\n",
      "Peer_7:basic INFO 2000: Sending message <Ping:> to Peer_9:basic\n",
      "Peer_7:basic INFO 2000: Sending message <Ping:> to Peer_1:basic\n",
      "Peer_7:basic INFO 2000.9448926811122: Received message <Pong:> from Peer_2:basic\n",
      "Peer_7:basic INFO 2001.3350501074879: Received message <Ping:> from Peer_4:basic\n",
      "Peer_7:basic INFO 2001.3350501074879: Sending message <Pong:> to Peer_4:basic\n",
      "Peer_7:basic INFO 2002.095858234445: Received message <Pong:> from Peer_4:basic\n",
      "Peer_7:basic INFO 2003.1013683239255: Received message <Ping:> from Peer_2:basic\n",
      "Peer_7:basic INFO 2003.1013683239255: Sending message <Pong:> to Peer_2:basic\n",
      "Peer_7:basic INFO 2010.000006542335: Received message <Ping:> from Peer_9:basic\n",
      "Peer_7:basic INFO 2010.000006542335: Sending message <Pong:> to Peer_9:basic\n",
      "Peer_7:basic INFO 2010.0000091332276: Received message <Ping:> from Peer_8:basic\n",
      "Peer_7:basic INFO 2010.0000091332276: Sending message <Pong:> to Peer_8:basic\n",
      "Peer_7:basic INFO 2010.0000117241202: Received message <Ping:> from Peer_2:basic\n",
      "Peer_7:basic INFO 2010.0000117241202: Sending message <Pong:> to Peer_2:basic\n",
      "Peer_7:basic INFO 2010.0000143150128: Received message <Ping:> from Peer_1:basic\n",
      "Peer_7:basic INFO 2010.0000143150128: Sending message <Pong:> to Peer_1:basic\n",
      "Peer_7:basic INFO 2015.2237500426454: Received message <Pong:> from Peer_8:basic\n",
      "Peer_7:basic INFO 2015.3032759478042: Received message <Pong:> from Peer_9:basic\n",
      "Peer_7:basic INFO 2016.1062338531888: Received message <Pong:> from Peer_1:basic\n",
      "Peer_7:basic INFO 2016.675736983158: Received message <Pong:> from Peer_2:basic\n",
      "Peer_7:basic WARNING 2500: Too many peers connected (6, 3)\n",
      "Peer_7:basic WARNING 3000: Too many peers connected (6, 3)\n",
      "Peer_7:basic INFO 3000: Sending message <Ping:> to Peer_2:basic\n",
      "Peer_7:basic INFO 3000: Sending message <Ping:> to Peer_4:basic\n",
      "Peer_7:basic INFO 3000: Sending message <Ping:> to Peer_2:basic\n",
      "Peer_7:basic INFO 3000: Sending message <Ping:> to Peer_8:basic\n",
      "Peer_7:basic INFO 3000: Sending message <Ping:> to Peer_9:basic\n",
      "Peer_7:basic INFO 3000: Sending message <Ping:> to Peer_1:basic\n",
      "Peer_7:basic INFO 3000.8335889604637: Received message <Ping:> from Peer_2:basic\n",
      "Peer_7:basic INFO 3000.8335889604637: Sending message <Pong:> to Peer_2:basic\n",
      "Peer_7:basic INFO 3002.0588549522595: Received message <Ping:> from Peer_4:basic\n",
      "Peer_7:basic INFO 3002.0588549522595: Sending message <Pong:> to Peer_4:basic\n",
      "Peer_7:basic INFO 3002.972525320139: Received message <Pong:> from Peer_2:basic\n",
      "Peer_7:basic INFO 3003.56373713638: Received message <Pong:> from Peer_4:basic\n",
      "Peer_7:basic INFO 3010.000006542335: Received message <Ping:> from Peer_9:basic\n",
      "Peer_7:basic INFO 3010.000006542335: Sending message <Pong:> to Peer_9:basic\n",
      "Peer_7:basic INFO 3010.0000091332276: Received message <Ping:> from Peer_8:basic\n",
      "Peer_7:basic INFO 3010.0000091332276: Sending message <Pong:> to Peer_8:basic\n",
      "Peer_7:basic INFO 3010.00001172412: Received message <Ping:> from Peer_2:basic\n",
      "Peer_7:basic INFO 3010.00001172412: Sending message <Pong:> to Peer_2:basic\n",
      "Peer_7:basic INFO 3010.000014315013: Received message <Ping:> from Peer_1:basic\n",
      "Peer_7:basic INFO 3010.000014315013: Sending message <Pong:> to Peer_1:basic\n",
      "Peer_7:basic INFO 3012.742423373388: Received message <Pong:> from Peer_1:basic\n",
      "Peer_7:basic INFO 3015.7336917359985: Received message <Pong:> from Peer_9:basic\n",
      "Peer_7:basic INFO 3016.038214228929: Received message <Pong:> from Peer_2:basic\n",
      "Peer_7:basic INFO 3016.1687810349395: Received message <Pong:> from Peer_8:basic\n",
      "Peer_7:basic WARNING 3500: Too many peers connected (6, 3)\n",
      "Peer_7:basic WARNING 3500: Peer_2:basic too slow\n",
      "Peer_7:basic WARNING 3500: Breaking connection with Peer_2:basic\n",
      "Peer_7:basic WARNING 3500: Peer_1:basic too slow\n",
      "Peer_7:basic WARNING 3500: Breaking connection with Peer_1:basic\n",
      "Peer_7:basic WARNING 3500: Peer_2:basic too slow\n",
      "Peer_7:basic WARNING 3500: Breaking connection with Peer_2:basic\n",
      "Peer_7:basic INFO 4000: Sending message <Ping:> to Peer_4:basic\n",
      "Peer_7:basic INFO 4000: Sending message <Ping:> to Peer_8:basic\n",
      "Peer_7:basic INFO 4000: Sending message <Ping:> to Peer_9:basic\n",
      "Peer_7:basic INFO 4001.565311682412: Received message <Ping:> from Peer_4:basic\n",
      "Peer_7:basic INFO 4001.565311682412: Sending message <Pong:> to Peer_4:basic\n",
      "Peer_7:basic INFO 4001.891507105786: Received message <Pong:> from Peer_4:basic\n",
      "Peer_7:basic INFO 4010.000006542335: Received message <Ping:> from Peer_9:basic\n",
      "Peer_7:basic INFO 4010.000006542335: Sending message <Pong:> to Peer_9:basic\n",
      "Peer_7:basic INFO 4010.0000091332276: Received message <Ping:> from Peer_8:basic\n",
      "Peer_7:basic INFO 4010.0000091332276: Sending message <Pong:> to Peer_8:basic\n",
      "Peer_7:basic INFO 4013.7848945646665: Received message <Pong:> from Peer_8:basic\n",
      "Peer_7:basic INFO 4017.292060763807: Received message <Pong:> from Peer_9:basic\n",
      "\n"
     ]
    }
   ],
   "source": [
    "with open('logs3/Peer_7:basic.log') as s:\n",
    "    print(s.read())\n",
    "    \n",
    "# Here, peer 7 is at location A, and peer 8 is at location B. Therefore, the ping latency from peer 7 to 8 should ideally be around a mean of 10ms with std_dev 2ms."
   ]
  },
  {
   "cell_type": "code",
   "execution_count": 114,
   "metadata": {},
   "outputs": [],
   "source": [
    "# Here, we will try emergent topology with min_peers = 1 and max_peers = 3\n",
    "class ConnectionConfig(Config):\n",
    "    min_peers = 1\n",
    "    max_peers = 3\n",
    "    \n",
    "peer_types = {'basic': PeerType(PeerConfig, {P2PConnectionManager: ConnectionConfig})}\n",
    "\n",
    "# Create BaseSimulation with enabled logger and save in the logs directory. \n",
    "sim = BaseSimulation(MixedLocations, G, peer_types, enable_logger=True, logger_dir='logs4')\n",
    "\n",
    "# Let's run the simulation for 5 seconds\n",
    "sim.run(15_000)"
   ]
  },
  {
   "cell_type": "code",
   "execution_count": 120,
   "metadata": {},
   "outputs": [
    {
     "data": {
      "image/png": "[encoded data removed]",
      "text/plain": [
       "<Figure size 432x288 with 1 Axes>"
      ]
     },
     "metadata": {},
     "output_type": "display_data"
    }
   ],
   "source": [
    "G1 = sim.get_graph()\n",
    "nx.draw_networkx(G1)\n",
    "\n",
    "# In this peer discovery settings, peers might be connected to only one or three peer node."
   ]
  },
  {
   "cell_type": "code",
   "execution_count": null,
   "metadata": {},
   "outputs": [],
   "source": []
  }
 ],
 "metadata": {
  "hide_input": false,
  "kernelspec": {
   "display_name": "Python 3",
   "language": "python",
   "name": "python3"
  },
  "language_info": {
   "codemirror_mode": {
    "name": "ipython",
    "version": 3
   },
   "file_extension": ".py",
   "mimetype": "text/x-python",
   "name": "python",
   "nbconvert_exporter": "python",
   "pygments_lexer": "ipython3",
   "version": "3.7.9"
  },
  "pycharm": {
   "stem_cell": {
    "cell_type": "raw",
    "metadata": {
     "collapsed": false
    },
    "source": []
   }
  },
  "toc": {
   "base_numbering": 1,
   "nav_menu": {},
   "number_sections": true,
   "sideBar": true,
   "skip_h1_title": false,
   "title_cell": "Table of Contents",
   "title_sidebar": "Contents",
   "toc_cell": false,
   "toc_position": {
    "height": "524px",
    "left": "441px",
    "top": "355px",
    "width": "256px"
   },
   "toc_section_display": true,
   "toc_window_display": false
  },
  "varInspector": {
   "cols": {
    "lenName": 16,
    "lenType": 16,
    "lenVar": 40
   },
   "kernels_config": {
    "python": {
     "delete_cmd_postfix": "",
     "delete_cmd_prefix": "del ",
     "library": "var_list.py",
     "varRefreshCmd": "print(var_dic_list())"
    },
    "r": {
     "delete_cmd_postfix": ") ",
     "delete_cmd_prefix": "rm(",
     "library": "var_list.r",
     "varRefreshCmd": "cat(var_dic_list()) "
    }
   },
   "types_to_exclude": [
    "module",
    "function",
    "builtin_function_or_method",
    "instance",
    "_Feature"
   ],
   "window_display": false
  }
 },
 "nbformat": 4,
 "nbformat_minor": 4
}
